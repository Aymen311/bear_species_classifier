{
 "cells": [
  {
   "cell_type": "code",
   "execution_count": 2,
   "metadata": {
    "id": "DfjiMSrDDDcR"
   },
   "outputs": [],
   "source": [
    "from fastai.vision.all import *\n",
    "from fastai.vision.widgets import *"
   ]
  },
  {
   "cell_type": "code",
   "execution_count": 3,
   "metadata": {
    "colab": {
     "base_uri": "https://localhost:8080/"
    },
    "id": "G_LYY9IuDGQu",
    "outputId": "7f2b84bc-b2e2-4b90-e89a-cc3e6a3568c7"
   },
   "outputs": [
    {
     "name": "stdout",
     "output_type": "stream",
     "text": [
      "gdrive\tsample_data\n"
     ]
    }
   ],
   "source": [
    "path = Path()\n",
    "learn_inf = load_learner(path/'export.pkl', cpu=True)"
   ]
  },
  {
   "cell_type": "code",
   "execution_count": null,
   "metadata": {
    "id": "48MDEavIDlcD"
   },
   "outputs": [],
   "source": [
    "#first we need a Uploader button\n",
    "btn_upload = widgets.FileUpload()\n",
    "#We are using Output widget to display the image\n",
    "out_pl = widgets.Output()\n",
    "#to display the result message\n",
    "lbl_pred = widgets.Label()\n",
    "#the classify button\n",
    "btn_run = widgets.Button(description='Classify')\n",
    "#event lauched on_click\n",
    "def on_click_classify(change):\n",
    "  img = PILImage.create(btn_upload.data[-1])\n",
    "  btn_upload.data = []\n",
    "  out_pl.clear_output()\n",
    "  with out_pl: display(img.to_thumb(128,128))\n",
    "  pred, pred_idx, probs = learn_inf.predict(img)\n",
    "  lbl_pred.value = f'Prediction {pred}; Probability {probs[pred_idx]:.04f}'\n",
    "\n",
    "#event listener \n",
    "btn_run.on_click(on_click_classify)\n",
    "#pack things up and place it on a vertical box\n",
    "display(VBox([widgets.Label('Select your bear!'), btn_upload, btn_run, out_pl, lbl_pred]))"
   ]
  }
 ],
 "metadata": {
  "colab": {
   "name": "voila_app.ipynb",
   "provenance": []
  },
  "kernelspec": {
   "display_name": "Python 3 (ipykernel)",
   "language": "python",
   "name": "python3"
  },
  "language_info": {
   "codemirror_mode": {
    "name": "ipython",
    "version": 3
   },
   "file_extension": ".py",
   "mimetype": "text/x-python",
   "name": "python",
   "nbconvert_exporter": "python",
   "pygments_lexer": "ipython3",
   "version": "3.9.5"
  }
 },
 "nbformat": 4,
 "nbformat_minor": 1
}
